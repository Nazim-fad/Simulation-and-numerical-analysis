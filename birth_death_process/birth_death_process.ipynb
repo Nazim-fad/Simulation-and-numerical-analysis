{
 "cells": [
  {
   "cell_type": "markdown",
   "metadata": {
    "tags": []
   },
   "source": [
    "# Birth and death process"
   ]
  },
  {
   "cell_type": "markdown",
   "metadata": {},
   "source": [
    "FADLI NAZIM"
   ]
  },
  {
   "cell_type": "markdown",
   "metadata": {},
   "source": [
    "### Model Presentation\n",
    "\n",
    "The **birth-death process** is a Markov jump process used to model systems with random transitions between states over time. It is widely applied in fields like population dynamics and epidemiology. The model simulates and predicts the behavior of systems where the number of entities (population size, queue length, or infected individuals) changes due to random events. The goal is to estimate the expected state of the system at a future time \\( T \\).\n",
    "\n"
   ]
  },
  {
   "cell_type": "markdown",
   "metadata": {},
   "source": [
    "\n",
    "We consider a birth and death process $(X_t)_{t \\in \\mathbb{R}^+}$ defined on the state space $\\{0, 1, \\ldots, N\\}$, with the following characteristics:\n",
    "\n",
    "- **Semigroup**: $(P(t))_{t \\in \\mathbb{R}}$\n",
    "- **Birth Rates**: $\\lambda_n = (N - n)\\lambda$, for $n = 0, 1, \\ldots, N$\n",
    "- **Death Rates**: $\\mu_n = n\\mu$, for $n = 0, 1, \\ldots, N$"
   ]
  },
  {
   "cell_type": "code",
   "execution_count": 2,
   "metadata": {},
   "outputs": [],
   "source": [
    "import numpy as np\n",
    "import matplotlib.pyplot as plt\n",
    "\n",
    "def simulate_birth_death_process(N, lambd, mu, initial_state, T):\n",
    "    # N : Maximum number of individuals in the system \n",
    "    current_state = initial_state  # Initial number of individuals in the system\n",
    "    current_time = 0              \n",
    "    process = [(current_time, current_state)]           # (time, state) sequence that characterizes all the process\n",
    "    \n",
    "    while current_time < T:                             \n",
    "        if current_state == 0:\n",
    "            birth_rate = (N - current_state) * lambd  \n",
    "            death_rate = 0 \n",
    "        elif current_state == N:\n",
    "            birth_rate = 0  \n",
    "            death_rate = current_state * mu  \n",
    "        else:\n",
    "            birth_rate = (N - current_state) * lambd    # lambda_n we defined earlier\n",
    "            death_rate = current_state * mu             # mu_n we defined earlier\n",
    "        \n",
    "        total_rate = birth_rate + death_rate\n",
    "        \n",
    "        if total_rate > 0: # we check if the process is stuck\n",
    "            time_to_next_event = np.random.exponential(1 / total_rate)\n",
    "            current_time += time_to_next_event\n",
    "            \n",
    "            # Decide a birth or a death\n",
    "            if np.random.rand() < (birth_rate / total_rate):\n",
    "                current_state += 1  # Birth\n",
    "            else:\n",
    "                current_state -= 1  # Death\n",
    "            \n",
    "            process.append((current_time, current_state))\n",
    "        else:\n",
    "            break  # No births or deaths possible because birth_rate and death_rate are both 0 and the process is stuck\n",
    "            \n",
    "    return process\n"
   ]
  },
  {
   "cell_type": "code",
   "execution_count": 3,
   "metadata": {},
   "outputs": [
    {
     "data": {
      "image/png": "[encoded data removed]",
      "text/plain": [
       "<Figure size 1000x500 with 1 Axes>"
      ]
     },
     "metadata": {},
     "output_type": "display_data"
    }
   ],
   "source": [
    "\n",
    "# Example parameters\n",
    "N = 15\n",
    "lambd = 0.2\n",
    "mu = 0.1\n",
    "initial_state = 5\n",
    "T = 100\n",
    "\n",
    "# Run the simulation\n",
    "result = simulate_birth_death_process(N, lambd, mu, initial_state, T)\n",
    "\n",
    "# Unpacx results for plotting\n",
    "times, states = zip(*result)\n",
    "\n",
    "# Plotting\n",
    "plt.figure(figsize=(10, 5))\n",
    "plt.step(times, states, where='post')\n",
    "plt.title('State Transition Over Time')\n",
    "plt.xlabel('Time')\n",
    "plt.ylabel('State')\n",
    "plt.yticks(range(N+1))\n",
    "plt.grid(True)\n",
    "plt.show()\n"
   ]
  },
  {
   "cell_type": "markdown",
   "metadata": {},
   "source": [
    "## Infinitesimal Generator $ Q $\n",
    "\n",
    "The infinitesimal generator $ Q $ for the birth-death process on $ (0, 1, ..., N) $ with birth rates $\\lambda_n = (N-n)\\lambda$ and death rates $\\mu_n = n\\mu$ is a $(N+1) \\times (N+1)$ matrix defined as follows:\n",
    "\n",
    "- $ Q_{n, n+1} = \\lambda_n = (N-n)\\lambda $ for $ n = 0, 1, \\ldots, N-1 $\n",
    "- $ Q_{n, n-1} = \\mu_n = n\\mu $ for $ n = 1, 2, \\ldots, N $\n",
    "- $ Q_{n, n} = -(\\lambda_n + \\mu_n) $ for all $  n = 0, 1, \\ldots, N $\n",
    "\n"
   ]
  },
  {
   "cell_type": "markdown",
   "metadata": {},
   "source": [
    "### Forward kolmogorov Equations\n",
    "\n",
    "The forward kolmogorov equations for a birth-death process with states ranging from $0$ to $N$ are derived from the generator matrix $Q$.The matrix multiplication $P'(t) = P(t)Q$\n",
    "### Equations for Transition Probabilities\n",
    "\n",
    "For any state $n = 0, 1, \\ldots, N$, the transition probabilities are governed by:\n",
    "\n",
    "1. **Transition from state 0:**\n",
    "   $$\n",
    "   \\frac{d}{dt} P_{n,0}(t) = -\\lambda_0 P_{n,0}(t) + \\mu_1 P_{n,1}(t)\n",
    "   $$\n",
    "   Here, $Q_{0,0} = -\\lambda_0$ and $Q_{1,0} = \\mu_1$, corresponding to the rates of leaving state 0 and moving from state 1 to 0, respectively.\n",
    "\n",
    "2. **Transitions for states $1 \\leq x \\leq N-1$:**\n",
    "   $$\n",
    "   \\frac{d}{dt} P_{n,x}(t) = \\lambda_{x-1} P_{n,x-1}(t) - (\\lambda_x + \\mu_x) P_{n,x}(t) + \\mu_{x+1} P_{n,x+1}(t)\n",
    "   $$\n",
    "   This equation incorporates transitions from state $ x-1$ to $x$ $\\lambda_{x-1}$, remaining in state $x$ $(\\lambda_x + \\mu_x)$, and transitions from state $x+1$ to $x$ $\\mu_{x+1}$.\n",
    "\n",
    "3. **Transition from the highest state $N$:**\n",
    "   $$\n",
    "   \\frac{d}{dt} P_{n,N}(t) = \\lambda_{N-1} P_{n,N-1}(t) - \\mu_N P_{n,N}(t)\n",
    "   $$\n",
    "   In this case, $Q_{N-1,N} = \\lambda_{N-1}$ and $Q_{N,N} = -\\mu_N$, reflecting the transition rates into and out of the highest state $N$.\n",
    "\n"
   ]
  },
  {
   "cell_type": "markdown",
   "metadata": {},
   "source": [
    "We can define the generating function $ G_x(s, t) $ is defined as: ( since we are working on a discrete state space)\n",
    "\n",
    "$$\n",
    "G_x(s, t) = E[s^{X_t} | X_0 = x] = \\sum_{n=0}^{N} s^n P(X_t = n | X_0 = x) = \\sum_{n=0}^{N} s^n P_{x,n}(t)\n",
    "$$\n",
    "\n",
    "where:\n",
    "- $ E[s^{X_t} | X_0 = x] $ is the expected value of $ s^{X_t} $ given that the initial state is $ x $,\n",
    "- $ P(X_t = n | X_0 = x) $ is the probability that the process is in state $ n $ at time $ t $ given that it started in state $ x $,\n",
    "- $ P_{x,n}(t) $ is the transition probability from state $ x $ to state $ n $ over time $ t $.\n",
    "\n",
    "We have that : $G_x(s, 0) = s^{x}$"
   ]
  },
  {
   "cell_type": "markdown",
   "metadata": {},
   "source": [
    "\n",
    "1. **Time Derivative**:\n",
    "   The partial derivative of $ G_x(s, t) $ with respect to time $ t $ is given by:\n",
    "   $$\n",
    "   \\frac{\\partial G_x}{\\partial t} (s, t) = \\sum_{n=0}^N s^n \\frac{d}{dt} P_{x,n}(t),\n",
    "   $$\n",
    "   where $ P_{x,n}(t) $ denotes the probability of transitioning from state $ x $ to state $ n $ at time $ t $.\n",
    "\n",
    "2. **Space Derivative**:\n",
    "   The partial derivative of $ G_x(s, t) $ with respect to the generating function parameter $ s $ is:\n",
    "   $$\n",
    "   \\frac{\\partial G_x}{\\partial s} (s, t) = \\sum_{n=1}^N n s^{n-1} P_{x,n}(t).\n",
    "   $$\n",
    "\n",
    "### Applying to the Differential Equation\n",
    "\n",
    "Given these expressions, we can derive the following partial differential equation:\n",
    "$$\n",
    "\\lambda N (s - 1) G_x(s, t) + (\\mu + (\\lambda - \\mu) s - \\lambda s^2) \\frac{\\partial G_x}{\\partial s} (s, t) - \\frac{\\partial G_x}{\\partial t} (s, t) = 0\n",
    "$$\n",
    "By solving  the partial differential equation we find an expression for $G_x(s, t)$ (We will skip the resolution as it is not our main subject).\n"
   ]
  },
  {
   "cell_type": "markdown",
   "metadata": {},
   "source": [
    "\n",
    "## Generating Function for Birth-Death Process\n",
    "\n",
    "The generating function $ G_x(s, t) $ for the process, starting from any state $ x $, is given by the formula:\n",
    "$0 \\leq x \\leq N$\n",
    "\n",
    "$$\n",
    "G_x(s, t) = \\frac{1}{(\\lambda + \\mu)^N} \\left( \\mu + \\lambda s + \\mu (s - 1) e^{-(\\lambda + \\mu)t} \\right)^x \\times \\left( \\mu + \\lambda s - \\lambda (s - 1) e^{-(\\lambda + \\mu)t} \\right)^{N-x}\n",
    "$$\n",
    "\n",
    "\n"
   ]
  },
  {
   "cell_type": "markdown",
   "metadata": {},
   "source": [
    "From this expression we have that : \n",
    "$$\n",
    "  \\left. \\frac{\\partial G_x}{\\partial s}(s, t) \\right|_{s=1} = \\sum_{n=1}^\\infty n P_{x,n}(t) = E[X_t | X_0 = x]\n",
    "$$"
   ]
  },
  {
   "cell_type": "markdown",
   "metadata": {},
   "source": [
    "So by taking the Derivative : \n",
    "$$\n",
    "E[X_t | X_0 = x] = \n",
    "x\\left( \\frac{\\lambda + \\mu e^{-(\\lambda+\\mu)t}}{(\\lambda + \\mu)^N} \\right) (\\mu + \\lambda)^{x-1} (\\mu + \\lambda)^{N-x} + (N - x) (\\lambda + \\mu)^{N-x-1} \\frac{(\\mu + \\lambda)^x \\left(\\lambda - \\lambda e^{-(\\lambda+\\mu)t}\\right)}{(\\mu + \\lambda)^{N}}.\n",
    "$$"
   ]
  },
  {
   "cell_type": "code",
   "execution_count": 6,
   "metadata": {},
   "outputs": [
    {
     "name": "stdout",
     "output_type": "stream",
     "text": [
      "The relative difference between the theoretical and empirical average is: -0.20%\n"
     ]
    }
   ],
   "source": [
    "# we will simulate the process 1000 times and plot the average number of individuals in a fixed time t (take the last state of each simulation) \n",
    "N = 15\n",
    "lambd = 0.2\n",
    "mu = 0.1\n",
    "initial_state = 5\n",
    "T = 100\n",
    "num_simulations = 1000\n",
    "\n",
    "# Run the simulations\n",
    "results = [simulate_birth_death_process(N, lambd, mu, initial_state, T) for _ in range(num_simulations)]\n",
    "# find the values of the state at time T\n",
    "state_values = [result[-1][1] for result in results] # Take the last state of each simulation at time T\n",
    "# calculate the average number of individuals at time T\n",
    "average_state = np.mean(state_values)\n",
    "\n",
    "# the theoretical expected value of the number of individuals at time T\n",
    "def theoretical_expected_value(x, N, lambd, mu, t):\n",
    "    term1 = x * ((lambd + mu * np.exp(-(lambd + mu) * t)) / (lambd + mu)**N) * (mu + lambd)**(x-1) * (mu + lambd)**(N-x)\n",
    "    term2 = (N - x) * ((lambd + mu)**(N-x-1)) * ((mu + lambd)**x) * ((lambd - lambd * np.exp(-(lambd + mu) * t)) / (mu + lambd)**N)\n",
    "    return term1 + term2\n",
    "\n",
    "theoretical_value = theoretical_expected_value(initial_state, N, lambd, mu, T) \n",
    "\n",
    "relative_difference = (theoretical_value - average_state) / theoretical_value\n",
    "print(f\"The relative difference between the theoretical and empirical average is: {relative_difference:.2%}\")\n"
   ]
  },
  {
   "cell_type": "markdown",
   "metadata": {},
   "source": [
    "The result is the one we expected, feels nice."
   ]
  },
  {
   "cell_type": "code",
   "execution_count": 19,
   "metadata": {},
   "outputs": [
    {
     "name": "stdout",
     "output_type": "stream",
     "text": [
      "The expected value of the state at time T = 100 starting from state 5\n",
      "9.99999999999953\n",
      "\n",
      "\n",
      "Monte Carlo Probability,Asymptotic Confidence interval 95%\n",
      "CI=10.0450000000 +/- 0.110370 \n",
      "\n",
      "CI=[9.9346296346, 10.155370] \n",
      "\n",
      "Relative error (the precision of the Monte Carlo simulation) = lenght_CI/MonteCarloProba = 2.1975184750 % \n",
      "\n"
     ]
    }
   ],
   "source": [
    "def LLN_Prob_Model(M,N, lambd, mu, initial_state, T):\n",
    "    sample = np.zeros(M)\n",
    "    for i in range(M):\n",
    "        sample[i] = simulate_birth_death_process(N, lambd, mu, initial_state, T)[-1][1]\n",
    "    return np.mean(sample), np.std(sample)  \n",
    "\n",
    "mean,std = LLN_Prob_Model(num_simulations, N, lambd, mu, initial_state, T)\n",
    "lenght_IC=2*1.96*std/np.sqrt(num_simulations)\n",
    "theoretical_value = theoretical_expected_value(initial_state, N, lambd, mu, T) \n",
    "\n",
    "print(f\"The expected value of the state at time T = {T} starting from state {initial_state}\")\n",
    "print(theoretical_value)\n",
    "print(\"\\n\")\n",
    "print(\"Monte Carlo Probability,Asymptotic Confidence interval 95%\")\n",
    "print(\"CI={:1.10f} +/- {:1.6f} \\n\".format(mean,lenght_IC/2))\n",
    "print(\"CI=[{:1.10f}, {:1.6f}] \\n\".format(mean-1.96*std/np.sqrt(num_simulations),mean+1.96*std/np.sqrt(num_simulations)))\n",
    "print(\"Relative error (the precision of the Monte Carlo simulation) = lenght_CI/MonteCarloProba = {:1.10f} % \\n\".format(100*lenght_IC/mean))"
   ]
  }
 ],
 "metadata": {
  "kernelspec": {
   "display_name": "Python 3 (ipykernel)",
   "language": "python",
   "name": "python3"
  },
  "language_info": {
   "codemirror_mode": {
    "name": "ipython",
    "version": 3
   },
   "file_extension": ".py",
   "mimetype": "text/x-python",
   "name": "python",
   "nbconvert_exporter": "python",
   "pygments_lexer": "ipython3",
   "version": "3.11.5"
  }
 },
 "nbformat": 4,
 "nbformat_minor": 4
}
